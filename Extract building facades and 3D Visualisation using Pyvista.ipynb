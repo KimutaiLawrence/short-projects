{
 "cells": [
  {
   "cell_type": "markdown",
   "id": "3d70426f",
   "metadata": {},
   "source": [
    "Install PyVista by running the following command in your command prompt:"
   ]
  },
  {
   "cell_type": "code",
   "execution_count": 13,
   "id": "187bf93a",
   "metadata": {},
   "outputs": [
    {
     "name": "stdout",
     "output_type": "stream",
     "text": [
      "Requirement already satisfied: ipywidgets in c:\\users\\user\\anaconda3\\envs\\geo_env\\lib\\site-packages (7.5.0)\n",
      "Collecting trame\n",
      "  Downloading trame-2.3.2-py3-none-any.whl (19 kB)\n",
      "Requirement already satisfied: ipykernel>=4.5.1 in c:\\users\\user\\anaconda3\\envs\\geo_env\\lib\\site-packages (from ipywidgets) (6.19.4)\n",
      "Requirement already satisfied: traitlets>=4.3.1 in c:\\users\\user\\anaconda3\\envs\\geo_env\\lib\\site-packages (from ipywidgets) (5.9.0)\n",
      "Requirement already satisfied: nbformat>=4.2.0 in c:\\users\\user\\anaconda3\\envs\\geo_env\\lib\\site-packages (from ipywidgets) (5.7.1)\n",
      "Collecting widgetsnbextension~=3.5.0\n",
      "  Using cached widgetsnbextension-3.5.2-py2.py3-none-any.whl (1.6 MB)\n",
      "Requirement already satisfied: ipython>=4.0.0 in c:\\users\\user\\anaconda3\\envs\\geo_env\\lib\\site-packages (from ipywidgets) (8.7.0)\n",
      "Collecting trame-server>=2.9.0\n",
      "  Downloading trame_server-2.9.1-py3-none-any.whl (27 kB)\n",
      "Collecting trame-client>=2.1.0\n",
      "  Downloading trame_client-2.7.0-py3-none-any.whl (221 kB)\n",
      "     ------------------------------------ 221.0/221.0 kB 675.6 kB/s eta 0:00:00\n",
      "Collecting trame-router==2.0.1\n",
      "  Downloading trame_router-2.0.1-py3-none-any.whl (30 kB)\n",
      "Collecting trame-components==2.1.0\n",
      "  Downloading trame_components-2.1.0-py3-none-any.whl (1.2 MB)\n",
      "     ---------------------------------------- 1.2/1.2 MB 796.8 kB/s eta 0:00:00\n",
      "Collecting trame-plotly==2.1.0\n",
      "  Downloading trame_plotly-2.1.0-py3-none-any.whl (12.1 MB)\n",
      "     -------------------------------------- 12.1/12.1 MB 704.9 kB/s eta 0:00:00\n",
      "Collecting trame-markdown==2.0.2\n",
      "  Downloading trame_markdown-2.0.2-py3-none-any.whl (1.5 MB)\n",
      "     ---------------------------------------- 1.5/1.5 MB 830.1 kB/s eta 0:00:00\n",
      "Collecting trame-matplotlib==2.0.1\n",
      "  Downloading trame_matplotlib-2.0.1-py3-none-any.whl (110 kB)\n",
      "     ------------------------------------ 110.8/110.8 kB 584.4 kB/s eta 0:00:00\n",
      "Collecting trame-deckgl==2.0.1\n",
      "  Downloading trame_deckgl-2.0.1-py3-none-any.whl (708 kB)\n",
      "     ------------------------------------ 708.9/708.9 kB 785.0 kB/s eta 0:00:00\n",
      "Collecting trame-vega==2.0.2\n",
      "  Downloading trame_vega-2.0.2-py3-none-any.whl (339 kB)\n",
      "     ------------------------------------ 339.4/339.4 kB 877.7 kB/s eta 0:00:00\n",
      "Collecting trame-vuetify<3.0.0\n",
      "  Downloading trame_vuetify-2.2.2-py3-none-any.whl (3.0 MB)\n",
      "     ---------------------------------------- 3.0/3.0 MB 639.1 kB/s eta 0:00:00\n",
      "Collecting trame-vtk<3.0.0\n",
      "  Downloading trame_vtk-2.0.17-py3-none-any.whl (447 kB)\n",
      "     ------------------------------------ 447.6/447.6 kB 998.5 kB/s eta 0:00:00\n",
      "Collecting trame-simput<3.0.0\n",
      "  Downloading trame_simput-2.2.5-py3-none-any.whl (502 kB)\n",
      "     -------------------------------------- 502.0/502.0 kB 1.1 MB/s eta 0:00:00\n",
      "Collecting trame-rca<3.0.0\n",
      "  Downloading trame_rca-0.3.0-py3-none-any.whl (179 kB)\n",
      "     ------------------------------------ 179.8/179.8 kB 985.8 kB/s eta 0:00:00\n",
      "Requirement already satisfied: comm>=0.1.1 in c:\\users\\user\\anaconda3\\envs\\geo_env\\lib\\site-packages (from ipykernel>=4.5.1->ipywidgets) (0.1.2)\n",
      "Requirement already satisfied: debugpy>=1.0 in c:\\users\\user\\anaconda3\\envs\\geo_env\\lib\\site-packages (from ipykernel>=4.5.1->ipywidgets) (1.6.4)\n",
      "Requirement already satisfied: jupyter-client>=6.1.12 in c:\\users\\user\\anaconda3\\envs\\geo_env\\lib\\site-packages (from ipykernel>=4.5.1->ipywidgets) (7.4.1)\n",
      "Requirement already satisfied: matplotlib-inline>=0.1 in c:\\users\\user\\anaconda3\\envs\\geo_env\\lib\\site-packages (from ipykernel>=4.5.1->ipywidgets) (0.1.6)\n",
      "Requirement already satisfied: nest-asyncio in c:\\users\\user\\anaconda3\\envs\\geo_env\\lib\\site-packages (from ipykernel>=4.5.1->ipywidgets) (1.5.6)\n",
      "Requirement already satisfied: packaging in c:\\users\\user\\anaconda3\\envs\\geo_env\\lib\\site-packages (from ipykernel>=4.5.1->ipywidgets) (22.0)\n",
      "Requirement already satisfied: psutil in c:\\users\\user\\anaconda3\\envs\\geo_env\\lib\\site-packages (from ipykernel>=4.5.1->ipywidgets) (5.9.4)\n",
      "Requirement already satisfied: pyzmq>=17 in c:\\users\\user\\anaconda3\\envs\\geo_env\\lib\\site-packages (from ipykernel>=4.5.1->ipywidgets) (24.0.1)\n",
      "Requirement already satisfied: tornado>=6.1 in c:\\users\\user\\anaconda3\\envs\\geo_env\\lib\\site-packages (from ipykernel>=4.5.1->ipywidgets) (6.2)\n",
      "Requirement already satisfied: backcall in c:\\users\\user\\anaconda3\\envs\\geo_env\\lib\\site-packages (from ipython>=4.0.0->ipywidgets) (0.2.0)\n",
      "Requirement already satisfied: decorator in c:\\users\\user\\anaconda3\\envs\\geo_env\\lib\\site-packages (from ipython>=4.0.0->ipywidgets) (5.1.1)\n",
      "Requirement already satisfied: jedi>=0.16 in c:\\users\\user\\anaconda3\\envs\\geo_env\\lib\\site-packages (from ipython>=4.0.0->ipywidgets) (0.18.2)\n",
      "Requirement already satisfied: pickleshare in c:\\users\\user\\anaconda3\\envs\\geo_env\\lib\\site-packages (from ipython>=4.0.0->ipywidgets) (0.7.5)\n",
      "Requirement already satisfied: prompt-toolkit<3.1.0,>=3.0.11 in c:\\users\\user\\anaconda3\\envs\\geo_env\\lib\\site-packages (from ipython>=4.0.0->ipywidgets) (3.0.36)\n",
      "Requirement already satisfied: pygments>=2.4.0 in c:\\users\\user\\anaconda3\\envs\\geo_env\\lib\\site-packages (from ipython>=4.0.0->ipywidgets) (2.13.0)\n",
      "Requirement already satisfied: stack-data in c:\\users\\user\\anaconda3\\envs\\geo_env\\lib\\site-packages (from ipython>=4.0.0->ipywidgets) (0.6.2)\n",
      "Requirement already satisfied: colorama in c:\\users\\user\\anaconda3\\envs\\geo_env\\lib\\site-packages (from ipython>=4.0.0->ipywidgets) (0.4.6)\n",
      "Requirement already satisfied: fastjsonschema in c:\\users\\user\\anaconda3\\envs\\geo_env\\lib\\site-packages (from nbformat>=4.2.0->ipywidgets) (2.16.2)\n",
      "Requirement already satisfied: jsonschema>=2.6 in c:\\users\\user\\anaconda3\\envs\\geo_env\\lib\\site-packages (from nbformat>=4.2.0->ipywidgets) (4.17.3)\n",
      "Requirement already satisfied: jupyter-core in c:\\users\\user\\anaconda3\\envs\\geo_env\\lib\\site-packages (from nbformat>=4.2.0->ipywidgets) (5.1.0)\n",
      "Collecting wslink\n",
      "  Downloading wslink-1.10.1-py3-none-any.whl (28 kB)\n",
      "Requirement already satisfied: pyyaml in c:\\users\\user\\anaconda3\\envs\\geo_env\\lib\\site-packages (from trame-simput<3.0.0->trame) (6.0)\n",
      "Requirement already satisfied: notebook>=4.4.1 in c:\\users\\user\\anaconda3\\envs\\geo_env\\lib\\site-packages (from widgetsnbextension~=3.5.0->ipywidgets) (6.5.2)\n",
      "Requirement already satisfied: parso<0.9.0,>=0.8.0 in c:\\users\\user\\anaconda3\\envs\\geo_env\\lib\\site-packages (from jedi>=0.16->ipython>=4.0.0->ipywidgets) (0.8.3)\n",
      "Requirement already satisfied: attrs>=17.4.0 in c:\\users\\user\\anaconda3\\envs\\geo_env\\lib\\site-packages (from jsonschema>=2.6->nbformat>=4.2.0->ipywidgets) (22.2.0)\n",
      "Requirement already satisfied: pyrsistent!=0.17.0,!=0.17.1,!=0.17.2,>=0.14.0 in c:\\users\\user\\anaconda3\\envs\\geo_env\\lib\\site-packages (from jsonschema>=2.6->nbformat>=4.2.0->ipywidgets) (0.19.2)\n",
      "Requirement already satisfied: entrypoints in c:\\users\\user\\anaconda3\\envs\\geo_env\\lib\\site-packages (from jupyter-client>=6.1.12->ipykernel>=4.5.1->ipywidgets) (0.4)\n",
      "Requirement already satisfied: python-dateutil>=2.8.2 in c:\\users\\user\\anaconda3\\envs\\geo_env\\lib\\site-packages (from jupyter-client>=6.1.12->ipykernel>=4.5.1->ipywidgets) (2.8.2)\n",
      "Requirement already satisfied: platformdirs>=2.5 in c:\\users\\user\\anaconda3\\envs\\geo_env\\lib\\site-packages (from jupyter-core->nbformat>=4.2.0->ipywidgets) (2.6.0)\n",
      "Requirement already satisfied: pywin32>=1.0 in c:\\users\\user\\anaconda3\\envs\\geo_env\\lib\\site-packages (from jupyter-core->nbformat>=4.2.0->ipywidgets) (304)\n",
      "Requirement already satisfied: jinja2 in c:\\users\\user\\anaconda3\\envs\\geo_env\\lib\\site-packages (from notebook>=4.4.1->widgetsnbextension~=3.5.0->ipywidgets) (3.1.2)\n",
      "Requirement already satisfied: argon2-cffi in c:\\users\\user\\anaconda3\\envs\\geo_env\\lib\\site-packages (from notebook>=4.4.1->widgetsnbextension~=3.5.0->ipywidgets) (21.3.0)\n",
      "Requirement already satisfied: ipython-genutils in c:\\users\\user\\anaconda3\\envs\\geo_env\\lib\\site-packages (from notebook>=4.4.1->widgetsnbextension~=3.5.0->ipywidgets) (0.2.0)\n",
      "Requirement already satisfied: nbconvert>=5 in c:\\users\\user\\anaconda3\\envs\\geo_env\\lib\\site-packages (from notebook>=4.4.1->widgetsnbextension~=3.5.0->ipywidgets) (7.2.7)\n",
      "Requirement already satisfied: Send2Trash>=1.8.0 in c:\\users\\user\\anaconda3\\envs\\geo_env\\lib\\site-packages (from notebook>=4.4.1->widgetsnbextension~=3.5.0->ipywidgets) (1.8.0)\n",
      "Requirement already satisfied: terminado>=0.8.3 in c:\\users\\user\\anaconda3\\envs\\geo_env\\lib\\site-packages (from notebook>=4.4.1->widgetsnbextension~=3.5.0->ipywidgets) (0.17.0)\n",
      "Requirement already satisfied: prometheus-client in c:\\users\\user\\anaconda3\\envs\\geo_env\\lib\\site-packages (from notebook>=4.4.1->widgetsnbextension~=3.5.0->ipywidgets) (0.15.0)\n",
      "Requirement already satisfied: nbclassic>=0.4.7 in c:\\users\\user\\anaconda3\\envs\\geo_env\\lib\\site-packages (from notebook>=4.4.1->widgetsnbextension~=3.5.0->ipywidgets) (0.4.8)\n",
      "Requirement already satisfied: wcwidth in c:\\users\\user\\anaconda3\\envs\\geo_env\\lib\\site-packages (from prompt-toolkit<3.1.0,>=3.0.11->ipython>=4.0.0->ipywidgets) (0.2.5)\n",
      "Collecting aiohttp<4\n",
      "  Downloading aiohttp-3.8.4-cp311-cp311-win_amd64.whl (317 kB)\n",
      "     -------------------------------------- 317.2/317.2 kB 1.0 MB/s eta 0:00:00\n",
      "Requirement already satisfied: executing>=1.2.0 in c:\\users\\user\\anaconda3\\envs\\geo_env\\lib\\site-packages (from stack-data->ipython>=4.0.0->ipywidgets) (1.2.0)\n",
      "Requirement already satisfied: asttokens>=2.1.0 in c:\\users\\user\\anaconda3\\envs\\geo_env\\lib\\site-packages (from stack-data->ipython>=4.0.0->ipywidgets) (2.2.1)\n",
      "Requirement already satisfied: pure-eval in c:\\users\\user\\anaconda3\\envs\\geo_env\\lib\\site-packages (from stack-data->ipython>=4.0.0->ipywidgets) (0.2.2)\n",
      "Requirement already satisfied: charset-normalizer<4.0,>=2.0 in c:\\users\\user\\anaconda3\\envs\\geo_env\\lib\\site-packages (from aiohttp<4->wslink->trame-rca<3.0.0->trame) (2.1.1)\n",
      "Collecting multidict<7.0,>=4.5\n",
      "  Downloading multidict-6.0.4-cp311-cp311-win_amd64.whl (28 kB)\n",
      "Collecting async-timeout<5.0,>=4.0.0a3\n",
      "  Using cached async_timeout-4.0.2-py3-none-any.whl (5.8 kB)\n",
      "Collecting yarl<2.0,>=1.0\n",
      "  Downloading yarl-1.8.2-cp311-cp311-win_amd64.whl (55 kB)\n",
      "     ---------------------------------------- 55.3/55.3 kB 2.8 MB/s eta 0:00:00\n",
      "Collecting frozenlist>=1.1.1\n",
      "  Downloading frozenlist-1.3.3-cp311-cp311-win_amd64.whl (32 kB)\n",
      "Collecting aiosignal>=1.1.2\n",
      "  Downloading aiosignal-1.3.1-py3-none-any.whl (7.6 kB)\n",
      "Requirement already satisfied: six in c:\\users\\user\\anaconda3\\envs\\geo_env\\lib\\site-packages (from asttokens>=2.1.0->stack-data->ipython>=4.0.0->ipywidgets) (1.16.0)\n",
      "Requirement already satisfied: jupyter-server>=1.8 in c:\\users\\user\\anaconda3\\envs\\geo_env\\lib\\site-packages (from nbclassic>=0.4.7->notebook>=4.4.1->widgetsnbextension~=3.5.0->ipywidgets) (1.23.4)\n",
      "Requirement already satisfied: notebook-shim>=0.1.0 in c:\\users\\user\\anaconda3\\envs\\geo_env\\lib\\site-packages (from nbclassic>=0.4.7->notebook>=4.4.1->widgetsnbextension~=3.5.0->ipywidgets) (0.2.2)\n",
      "Requirement already satisfied: beautifulsoup4 in c:\\users\\user\\anaconda3\\envs\\geo_env\\lib\\site-packages (from nbconvert>=5->notebook>=4.4.1->widgetsnbextension~=3.5.0->ipywidgets) (4.11.1)\n",
      "Requirement already satisfied: bleach in c:\\users\\user\\anaconda3\\envs\\geo_env\\lib\\site-packages (from nbconvert>=5->notebook>=4.4.1->widgetsnbextension~=3.5.0->ipywidgets) (5.0.1)\n",
      "Requirement already satisfied: defusedxml in c:\\users\\user\\anaconda3\\envs\\geo_env\\lib\\site-packages (from nbconvert>=5->notebook>=4.4.1->widgetsnbextension~=3.5.0->ipywidgets) (0.7.1)\n",
      "Requirement already satisfied: jupyterlab-pygments in c:\\users\\user\\anaconda3\\envs\\geo_env\\lib\\site-packages (from nbconvert>=5->notebook>=4.4.1->widgetsnbextension~=3.5.0->ipywidgets) (0.2.2)\n",
      "Requirement already satisfied: markupsafe>=2.0 in c:\\users\\user\\anaconda3\\envs\\geo_env\\lib\\site-packages (from nbconvert>=5->notebook>=4.4.1->widgetsnbextension~=3.5.0->ipywidgets) (2.1.1)\n",
      "Requirement already satisfied: mistune<3,>=2.0.3 in c:\\users\\user\\anaconda3\\envs\\geo_env\\lib\\site-packages (from nbconvert>=5->notebook>=4.4.1->widgetsnbextension~=3.5.0->ipywidgets) (2.0.4)\n",
      "Requirement already satisfied: nbclient>=0.5.0 in c:\\users\\user\\anaconda3\\envs\\geo_env\\lib\\site-packages (from nbconvert>=5->notebook>=4.4.1->widgetsnbextension~=3.5.0->ipywidgets) (0.7.2)\n",
      "Requirement already satisfied: pandocfilters>=1.4.1 in c:\\users\\user\\anaconda3\\envs\\geo_env\\lib\\site-packages (from nbconvert>=5->notebook>=4.4.1->widgetsnbextension~=3.5.0->ipywidgets) (1.5.0)\n",
      "Requirement already satisfied: tinycss2 in c:\\users\\user\\anaconda3\\envs\\geo_env\\lib\\site-packages (from nbconvert>=5->notebook>=4.4.1->widgetsnbextension~=3.5.0->ipywidgets) (1.2.1)\n",
      "Requirement already satisfied: pywinpty>=1.1.0 in c:\\users\\user\\anaconda3\\envs\\geo_env\\lib\\site-packages (from terminado>=0.8.3->notebook>=4.4.1->widgetsnbextension~=3.5.0->ipywidgets) (2.0.9)\n",
      "Requirement already satisfied: argon2-cffi-bindings in c:\\users\\user\\anaconda3\\envs\\geo_env\\lib\\site-packages (from argon2-cffi->notebook>=4.4.1->widgetsnbextension~=3.5.0->ipywidgets) (21.2.0)\n",
      "Requirement already satisfied: anyio<4,>=3.1.0 in c:\\users\\user\\anaconda3\\envs\\geo_env\\lib\\site-packages (from jupyter-server>=1.8->nbclassic>=0.4.7->notebook>=4.4.1->widgetsnbextension~=3.5.0->ipywidgets) (3.6.2)\n",
      "Requirement already satisfied: websocket-client in c:\\users\\user\\anaconda3\\envs\\geo_env\\lib\\site-packages (from jupyter-server>=1.8->nbclassic>=0.4.7->notebook>=4.4.1->widgetsnbextension~=3.5.0->ipywidgets) (1.4.2)\n",
      "Requirement already satisfied: idna>=2.0 in c:\\users\\user\\anaconda3\\envs\\geo_env\\lib\\site-packages (from yarl<2.0,>=1.0->aiohttp<4->wslink->trame-rca<3.0.0->trame) (3.4)\n",
      "Requirement already satisfied: cffi>=1.0.1 in c:\\users\\user\\anaconda3\\envs\\geo_env\\lib\\site-packages (from argon2-cffi-bindings->argon2-cffi->notebook>=4.4.1->widgetsnbextension~=3.5.0->ipywidgets) (1.15.1)\n",
      "Requirement already satisfied: soupsieve>1.2 in c:\\users\\user\\anaconda3\\envs\\geo_env\\lib\\site-packages (from beautifulsoup4->nbconvert>=5->notebook>=4.4.1->widgetsnbextension~=3.5.0->ipywidgets) (2.3.2.post1)\n",
      "Requirement already satisfied: webencodings in c:\\users\\user\\anaconda3\\envs\\geo_env\\lib\\site-packages (from bleach->nbconvert>=5->notebook>=4.4.1->widgetsnbextension~=3.5.0->ipywidgets) (0.5.1)\n",
      "Requirement already satisfied: sniffio>=1.1 in c:\\users\\user\\anaconda3\\envs\\geo_env\\lib\\site-packages (from anyio<4,>=3.1.0->jupyter-server>=1.8->nbclassic>=0.4.7->notebook>=4.4.1->widgetsnbextension~=3.5.0->ipywidgets) (1.3.0)\n",
      "Requirement already satisfied: pycparser in c:\\users\\user\\anaconda3\\envs\\geo_env\\lib\\site-packages (from cffi>=1.0.1->argon2-cffi-bindings->argon2-cffi->notebook>=4.4.1->widgetsnbextension~=3.5.0->ipywidgets) (2.21)\n",
      "Installing collected packages: trame-client, trame-vuetify, trame-vtk, trame-vega, trame-simput, trame-router, trame-plotly, trame-matplotlib, trame-markdown, trame-deckgl, trame-components, multidict, frozenlist, async-timeout, yarl, aiosignal, aiohttp, wslink, trame-server, trame-rca, trame, widgetsnbextension\n",
      "  Attempting uninstall: widgetsnbextension\n",
      "    Found existing installation: widgetsnbextension 4.0.5\n",
      "    Uninstalling widgetsnbextension-4.0.5:\n",
      "      Successfully uninstalled widgetsnbextension-4.0.5\n",
      "Successfully installed aiohttp-3.8.4 aiosignal-1.3.1 async-timeout-4.0.2 frozenlist-1.3.3 multidict-6.0.4 trame-2.3.2 trame-client-2.7.0 trame-components-2.1.0 trame-deckgl-2.0.1 trame-markdown-2.0.2 trame-matplotlib-2.0.1 trame-plotly-2.1.0 trame-rca-0.3.0 trame-router-2.0.1 trame-server-2.9.1 trame-simput-2.2.5 trame-vega-2.0.2 trame-vtk-2.0.17 trame-vuetify-2.2.2 widgetsnbextension-3.5.2 wslink-1.10.1 yarl-1.8.2\n"
     ]
    }
   ],
   "source": [
    "# !pip install pyvista\n",
    "# !pip install meshio\n",
    "!pip install ipywidgets trame\n"
   ]
  },
  {
   "cell_type": "markdown",
   "id": "a3fa2183",
   "metadata": {},
   "source": [
    "Import the necessary libraries in your Python script:"
   ]
  },
  {
   "cell_type": "code",
   "execution_count": 14,
   "id": "d476f8f9",
   "metadata": {},
   "outputs": [],
   "source": [
    "import pyvista as pv\n",
    "import numpy as np\n",
    "import trame\n"
   ]
  },
  {
   "cell_type": "markdown",
   "id": "445725ff",
   "metadata": {},
   "source": [
    "Load the LiDAR data using PyVista. PyVista supports many file formats, including LAS, LAZ, PCD, and OBJ. Here, we will use an LAS file:"
   ]
  },
  {
   "cell_type": "code",
   "execution_count": 30,
   "id": "774f22e7",
   "metadata": {
    "scrolled": false
   },
   "outputs": [
    {
     "data": {
      "application/vnd.jupyter.widget-view+json": {
       "model_id": "e325e92d65d342c6932db8fa82758df0",
       "version_major": 2,
       "version_minor": 0
      },
      "text/plain": [
       "Widget(value=\"<iframe src='http://localhost:53856/index.html?ui=P_0x169238522d0_5&reconnect=auto' style='width…"
      ]
     },
     "metadata": {},
     "output_type": "display_data"
    }
   ],
   "source": [
    "import laspy\n",
    "import numpy as np\n",
    "import pyvista as pv\n",
    "\n",
    "filename = \"Building.las\"\n",
    "las_file = laspy.read(filename)\n",
    "xyz = np.vstack((las_file.x, las_file.y, las_file.z)).transpose()\n",
    "cloud = pv.PolyData(xyz)\n",
    "\n",
    "# visualize the point cloud\n",
    "cloud.plot()\n",
    "\n"
   ]
  },
  {
   "cell_type": "markdown",
   "id": "ed3074a4",
   "metadata": {},
   "source": [
    "Visualize the data to make sure it was loaded correctly:\n",
    "\n",
    "This will open a 3D plot in a new window, showing the point cloud data."
   ]
  },
  {
   "cell_type": "code",
   "execution_count": 33,
   "id": "6bb9e67c",
   "metadata": {},
   "outputs": [
    {
     "data": {
      "application/vnd.jupyter.widget-view+json": {
       "model_id": "ea8bd1bcd64a41478a268d3e6d11f208",
       "version_major": 2,
       "version_minor": 0
      },
      "text/plain": [
       "Widget(value=\"<iframe src='http://localhost:53856/index.html?ui=P_0x16911232cd0_8&reconnect=auto' style='width…"
      ]
     },
     "metadata": {},
     "output_type": "display_data"
    }
   ],
   "source": [
    "cloud.plot()\n"
   ]
  },
  {
   "cell_type": "markdown",
   "id": "bcc84f1d",
   "metadata": {},
   "source": [
    "This will open a 3D plot in a new window, showing only the building facades and faces.\n",
    "\n",
    "That's it! You now have a 3D visualization of the building facades and faces extracted from LiDAR data using PyVista."
   ]
  },
  {
   "cell_type": "code",
   "execution_count": null,
   "id": "85d13f8d",
   "metadata": {},
   "outputs": [],
   "source": []
  }
 ],
 "metadata": {
  "kernelspec": {
   "display_name": "Python 3 (ipykernel)",
   "language": "python",
   "name": "python3"
  },
  "language_info": {
   "codemirror_mode": {
    "name": "ipython",
    "version": 3
   },
   "file_extension": ".py",
   "mimetype": "text/x-python",
   "name": "python",
   "nbconvert_exporter": "python",
   "pygments_lexer": "ipython3",
   "version": "3.11.0"
  }
 },
 "nbformat": 4,
 "nbformat_minor": 5
}
