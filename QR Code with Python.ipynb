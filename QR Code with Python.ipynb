{
 "cells": [
  {
   "cell_type": "code",
   "execution_count": 1,
   "id": "c064b853",
   "metadata": {},
   "outputs": [
    {
     "name": "stdout",
     "output_type": "stream",
     "text": [
      "Collecting pyqrcode\n",
      "  Downloading PyQRCode-1.2.1.zip (41 kB)\n",
      "     -------------------------------------- 41.9/41.9 kB 168.5 kB/s eta 0:00:00\n",
      "  Preparing metadata (setup.py): started\n",
      "  Preparing metadata (setup.py): finished with status 'done'\n",
      "Building wheels for collected packages: pyqrcode\n",
      "  Building wheel for pyqrcode (setup.py): started\n",
      "  Building wheel for pyqrcode (setup.py): finished with status 'done'\n",
      "  Created wheel for pyqrcode: filename=PyQRCode-1.2.1-py3-none-any.whl size=36240 sha256=fc9f52bfd8a3d4268196104dfbaa98936323dfb0d193366f681daf22a6fe8c83\n",
      "  Stored in directory: c:\\users\\user\\appdata\\local\\pip\\cache\\wheels\\78\\d3\\22\\25fa3ec43fe4bd25b8ff49b36a06a9401a844de48b26bb2a04\n",
      "Successfully built pyqrcode\n",
      "Installing collected packages: pyqrcode\n",
      "Successfully installed pyqrcode-1.2.1\n",
      "Collecting pypng\n",
      "  Downloading pypng-0.20220715.0-py3-none-any.whl (58 kB)\n",
      "     -------------------------------------- 58.1/58.1 kB 254.3 kB/s eta 0:00:00\n",
      "Installing collected packages: pypng\n",
      "Successfully installed pypng-0.20220715.0\n"
     ]
    }
   ],
   "source": [
    "!pip install pyqrcode\n",
    "!pip install pypng"
   ]
  },
  {
   "cell_type": "code",
   "execution_count": 2,
   "id": "c880164d",
   "metadata": {},
   "outputs": [],
   "source": [
    "# Import QRcode from Pyqrcode\n",
    "import pyqrcode\n",
    "import png\n",
    "from pyqrcode import QRCode\n",
    "\n",
    "#string which represents the QR code'\n",
    "s = \"www.geeksforgeeks.org\"\n",
    "\n",
    "#Generate QR Code\n",
    "url = pyqrcode.create(s)\n",
    "\n",
    "#Create and save file the svg file naming \"myqr.svg\"\n",
    "url.svg(\"myqr.svg\", scale = 8)\n",
    "\n",
    "#create and save the png file naming \"myqr.png\"\n",
    "url.png('myqr.png', scale = 6)"
   ]
  },
  {
   "cell_type": "markdown",
   "id": "b2989ef0",
   "metadata": {},
   "source": [
    "Displaying the QR CODE generated"
   ]
  },
  {
   "cell_type": "code",
   "execution_count": 4,
   "id": "c964bec7",
   "metadata": {},
   "outputs": [
    {
     "data": {
      "image/png": "[encoded data removed]",
      "text/plain": [
       "<Figure size 640x480 with 1 Axes>"
      ]
     },
     "metadata": {},
     "output_type": "display_data"
    }
   ],
   "source": [
    "import matplotlib.pyplot as plt\n",
    "import matplotlib.image as mpimg\n",
    "\n",
    "# Read the image file\n",
    "image = mpimg.imread(\"C:\\\\Users\\\\USER\\\\myqr.png\")\n",
    "\n",
    "# Display the image\n",
    "plt.imshow(image)\n",
    "plt.show()"
   ]
  },
  {
   "cell_type": "code",
   "execution_count": null,
   "id": "fa9a44ba",
   "metadata": {},
   "outputs": [],
   "source": []
  }
 ],
 "metadata": {
  "kernelspec": {
   "display_name": "Python 3 (ipykernel)",
   "language": "python",
   "name": "python3"
  },
  "language_info": {
   "codemirror_mode": {
    "name": "ipython",
    "version": 3
   },
   "file_extension": ".py",
   "mimetype": "text/x-python",
   "name": "python",
   "nbconvert_exporter": "python",
   "pygments_lexer": "ipython3",
   "version": "3.11.0"
  }
 },
 "nbformat": 4,
 "nbformat_minor": 5
}
