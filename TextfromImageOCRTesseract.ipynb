{
 "cells": [
  {
   "cell_type": "markdown",
   "id": "47b93d1e",
   "metadata": {},
   "source": [
    "You can install Tesseract OCR and the pytesseract Python wrapper using the following steps:\n",
    "\n",
    "1. Install Tesseract OCR: You can download and install Tesseract OCR from the following website based on your operating system:\n",
    "Windows: https://github.com/UB-Mannheim/tesseract/wiki\n",
    "\n",
    "MacOS: https://brew.sh/\n",
    "\n",
    "Linux: Use your package manager (e.g. apt-get install tesseract-ocr on Ubuntu)\n",
    "\n",
    "2. Install the pytesseract package: You can install the pytesseract package using pip, the Python package installer. Open a terminal window and run the following command:"
   ]
  },
  {
   "cell_type": "code",
   "execution_count": 4,
   "id": "34e17d9e",
   "metadata": {},
   "outputs": [],
   "source": [
    "# !pip install pytesseract"
   ]
  },
  {
   "cell_type": "markdown",
   "id": "8a2e336f",
   "metadata": {},
   "source": [
    "The path to the Tesseract OCR executable file may depend on your operating system and the method you used to install Tesseract. Here are some common ways to find the path:\n",
    "\n",
    "1. Windows: If you installed Tesseract using the installer, the default installation directory is C:\\Program Files\\Tesseract-OCR. If you installed Tesseract using Chocolatey, the installation directory is typically C:\\ProgramData\\chocolatey\\bin.\n",
    "\n",
    "2. MacOS: If you installed Tesseract using Homebrew, the executable file is typically located at /usr/local/Cellar/tesseract/{version}/bin/tesseract, where {version} is the version number of Tesseract. You can find the version number by running brew info tesseract in the terminal.\n",
    "\n",
    "3. Linux: If you installed Tesseract using your package manager, the executable file is typically located at /usr/bin/tesseract or /usr/local/bin/tesseract.\n",
    "\n",
    "Once you have found the path to the Tesseract OCR executable file, you can set the tesseract_cmd variable in your Python code to the path. For example, if the path is /usr/bin/tesseract, you can set the variable as follows:\n",
    "\n",
    "import pytesseract\n",
    "\n",
    "#Set the path to the Tesseract OCR executable file\n",
    "\n",
    "pytesseract.pytesseract.tesseract_cmd = '/usr/bin/tesseract'\n"
   ]
  },
  {
   "cell_type": "markdown",
   "id": "34b973be",
   "metadata": {},
   "source": [
    "eg. If the Tesseract OCR executable file is installed in the default directory of C:\\Program Files\\Tesseract-OCR on a Windows machine, you can set the tesseract_cmd variable in your Python code to the following path:"
   ]
  },
  {
   "cell_type": "code",
   "execution_count": 2,
   "id": "f9a32d14",
   "metadata": {},
   "outputs": [],
   "source": [
    "import pytesseract\n",
    "\n",
    "# Set the path to the Tesseract OCR executable file\n",
    "pytesseract.pytesseract.tesseract_cmd = r'C:\\Program Files\\Tesseract-OCR\\tesseract.exe'\n"
   ]
  },
  {
   "cell_type": "markdown",
   "id": "35cfd9a6",
   "metadata": {},
   "source": [
    "Testing out to see the functionality of Tesseract"
   ]
  },
  {
   "cell_type": "code",
   "execution_count": 14,
   "id": "0a7374a3",
   "metadata": {},
   "outputs": [
    {
     "name": "stdout",
     "output_type": "stream",
     "text": [
      "Importance of Quick Recovery codes in their various application areas:\n",
      "\n",
      "1. Marketing: QR codes can be used as a tool for marketing by including them in print or digital advertising materials such as\n",
      "posters, flyers, brochures, and websites. When scanned, the QR code can direct the user to a landing page with more information\n",
      "about the product or service being advertised.\n",
      "\n",
      "2. Retail: Retailers can use QR codes to provide additional information about products, such as pricing, product specifications,\n",
      "and customer reviews. Customers can scan the QR code using their mobile device to access this information quickly and easily.\n",
      "\n",
      "3. Education: QR codes can be used in educational materials, such as textbooks, to provide additional resources and multimedia\n",
      "content. For example, a QR code in a history textbook could link to a video that provides additional context and background\n",
      "information.\n",
      "\n",
      "4. Events: QR codes can be used at events to provide additional information, such as schedules, maps, and exhibitor information.\n",
      "Attendees can scan the QR code using their mobile device to access this information.\n",
      "\n",
      "5. Authentication and Verification: QR codes can be used to authenticate and verify products, such as tickets, event passes, and\n",
      "official documents. The QR code can be scanned to confirm the validity and authenticity of the item.\n",
      "\n",
      "6. Healthcare: QR codes can be used in healthcare to provide patients with easy access to medical information, such as\n",
      "instructions for taking medication and tracking medical records.\n",
      "\n",
      "7. (ontactless Payments: QR codes can be used as a payment method, where the customer scans the QR code displayed by the\n",
      "merchant to initiate the payment process.\n",
      "\n",
      "\n"
     ]
    }
   ],
   "source": [
    "import pytesseract\n",
    "from PIL import Image\n",
    "\n",
    "# Open the image using PIL\n",
    "image = Image.open('fy.png')\n",
    "\n",
    "# Use pytesseract to extract the text from the image\n",
    "text = pytesseract.image_to_string(image)\n",
    "\n",
    "# Print the extracted text\n",
    "print(text)\n"
   ]
  },
  {
   "cell_type": "markdown",
   "id": "83ab0e8f",
   "metadata": {},
   "source": [
    "And good! There we have our text from image!!"
   ]
  },
  {
   "cell_type": "markdown",
   "id": "c1e7b90d",
   "metadata": {},
   "source": [
    "To extract font information, you can use the image_to_osd method of pytesseract, which returns the orientation and script detection information for the image. The output of this method includes information on the font used in the image, including the font name and font size.\n",
    "\n",
    "Here's how to extract font information from an image using pytesseract:"
   ]
  },
  {
   "cell_type": "code",
   "execution_count": 15,
   "id": "ec77b67f",
   "metadata": {},
   "outputs": [
    {
     "name": "stdout",
     "output_type": "stream",
     "text": [
      "Font name: 0\n",
      "Font size: 11.87\n"
     ]
    }
   ],
   "source": [
    "import pytesseract\n",
    "from PIL import Image\n",
    "\n",
    "# Set the path to the Tesseract OCR executable file\n",
    "pytesseract.pytesseract.tesseract_cmd = r'C:\\Program Files\\Tesseract-OCR\\tesseract.exe'\n",
    "\n",
    "# Load the image and extract the font information\n",
    "img = Image.open('fy.png')\n",
    "osd = pytesseract.image_to_osd(img)\n",
    "\n",
    "# Extract the font information from the OSD output\n",
    "font_name = osd.split('\\n')[2].split(':')[1].strip()\n",
    "font_size = osd.split('\\n')[3].split(':')[1].strip()\n",
    "\n",
    "# Print the font information\n",
    "print(f\"Font name: {font_name}\")\n",
    "print(f\"Font size: {font_size}\")\n"
   ]
  },
  {
   "cell_type": "code",
   "execution_count": 16,
   "id": "49d86b16",
   "metadata": {},
   "outputs": [
    {
     "data": {
      "application/vnd.jupyter.widget-view+json": {
       "model_id": "b4e9e233287e4bcba8b923b743d6d089",
       "version_major": 2,
       "version_minor": 0
      },
      "text/plain": [
       "VBox(children=(FileUpload(value={}, description='Upload'), Button(description='Extract Text', style=ButtonStyl…"
      ]
     },
     "metadata": {},
     "output_type": "display_data"
    }
   ],
   "source": [
    "import pytesseract\n",
    "import io\n",
    "import ipywidgets as widgets\n",
    "from IPython.display import display\n",
    "from PIL import Image\n",
    "\n",
    "# Set the path to the Tesseract OCR executable file\n",
    "pytesseract.pytesseract.tesseract_cmd = r'C:\\Program Files\\Tesseract-OCR\\tesseract.exe'\n",
    "\n",
    "# Define the GUI elements\n",
    "uploader = widgets.FileUpload()\n",
    "output = widgets.Output()\n",
    "button = widgets.Button(description='Extract Text')\n",
    "status = widgets.HTML(value='<i>Upload an image to begin</i>')\n",
    "\n",
    "# Define the function to extract text from the image\n",
    "def extract_text(image):\n",
    "    with output:\n",
    "        # Load the image and extract the text\n",
    "        img = Image.open(io.BytesIO(image['content']))\n",
    "        text = pytesseract.image_to_string(img)\n",
    "\n",
    "        # Print the extracted text\n",
    "        print(text)\n",
    "\n",
    "# Define the function to handle button clicks\n",
    "def on_button_click(button):\n",
    "    if uploader.value:\n",
    "        extract_text(uploader.value[list(uploader.value.keys())[0]])\n",
    "        status.value = '<font color=\"green\">Image successfully uploaded</font>'\n",
    "    else:\n",
    "        status.value = '<font color=\"red\">No image uploaded</font>'\n",
    "\n",
    "# Attach the event handler to the button\n",
    "button.on_click(on_button_click)\n",
    "\n",
    "# Display the GUI elements\n",
    "display(widgets.VBox([uploader, button, status, output]))\n"
   ]
  },
  {
   "cell_type": "code",
   "execution_count": null,
   "id": "884b9e65",
   "metadata": {},
   "outputs": [],
   "source": [
    "\n"
   ]
  }
 ],
 "metadata": {
  "kernelspec": {
   "display_name": "Python 3 (ipykernel)",
   "language": "python",
   "name": "python3"
  },
  "language_info": {
   "codemirror_mode": {
    "name": "ipython",
    "version": 3
   },
   "file_extension": ".py",
   "mimetype": "text/x-python",
   "name": "python",
   "nbconvert_exporter": "python",
   "pygments_lexer": "ipython3",
   "version": "3.11.0"
  }
 },
 "nbformat": 4,
 "nbformat_minor": 5
}
