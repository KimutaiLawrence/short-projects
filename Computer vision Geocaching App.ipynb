{
 "cells": [
  {
   "cell_type": "markdown",
   "id": "6f2d7be9",
   "metadata": {},
   "source": [
    "Create a map using the geemap library. This will allow you to display a Google Maps-like interface with markers for the items to be found."
   ]
  },
  {
   "cell_type": "code",
   "execution_count": 3,
   "id": "c572a133",
   "metadata": {},
   "outputs": [
    {
     "data": {
      "application/vnd.jupyter.widget-view+json": {
       "model_id": "a90ecd3ac9124f73bae14e4a59fb2f3a",
       "version_major": 2,
       "version_minor": 0
      },
      "text/plain": [
       "Map(center=[45.14685155912081, -104.21966841664756], controls=(WidgetControl(options=['position', 'transparent…"
      ]
     },
     "metadata": {},
     "output_type": "display_data"
    }
   ],
   "source": [
    "import geemap\n",
    "import ee\n",
    "import collections\n",
    "collections.Callable = collections.abc.Callable\n",
    "\n",
    "Map = geemap.Map()\n",
    "Map.centerObject(ee.FeatureCollection('TIGER/2018/States'), 4)\n",
    "Map\n"
   ]
  },
  {
   "cell_type": "markdown",
   "id": "a5350e00",
   "metadata": {},
   "source": [
    "Add markers to the map for the items to be found. You can do this by creating a list of coordinates for each item and using the addLayer method of the Map object."
   ]
  },
  {
   "cell_type": "code",
   "execution_count": 4,
   "id": "19c7bf5b",
   "metadata": {},
   "outputs": [],
   "source": [
    "markers = [    [39.8333333, -98.585522],\n",
    "    [36.084621,-79.851514]\n",
    "]\n",
    "\n",
    "for marker in markers:\n",
    "    Map.addLayer(ee.Geometry.Point(marker), {}, 'Marker')\n"
   ]
  },
  {
   "cell_type": "markdown",
   "id": "a7611c81",
   "metadata": {},
   "source": [
    "Use ipywidgets to create a camera button that the user can click to take a picture of the item. You can use the camera module of ipywidgets to create a camera button that will open the user's camera when clicked."
   ]
  },
  {
   "cell_type": "code",
   "execution_count": 5,
   "id": "7120a39c",
   "metadata": {},
   "outputs": [
    {
     "data": {
      "application/vnd.jupyter.widget-view+json": {
       "model_id": "820c5a0bd4304dcabef769ce71fc3678",
       "version_major": 2,
       "version_minor": 0
      },
      "text/plain": [
       "Button(button_style='success', description='Take picture', layout=Layout(width='100px'), style=ButtonStyle())"
      ]
     },
     "metadata": {},
     "output_type": "display_data"
    }
   ],
   "source": [
    "from ipywidgets import widgets\n",
    "from IPython.display import display\n",
    "from IPython.display import clear_output\n",
    "\n",
    "camera = widgets.Image(\n",
    "    format='jpeg',\n",
    "    width=300,\n",
    "    height=400,\n",
    ")\n",
    "\n",
    "camera_button = widgets.Button(\n",
    "    description='Take picture',\n",
    "    button_style='success',\n",
    "    layout=widgets.Layout(width='100px')\n",
    ")\n",
    "\n",
    "def on_camera_button_clicked(b):\n",
    "    clear_output()\n",
    "    display(camera)\n",
    "    \n",
    "camera_button.on_click(on_camera_button_clicked)\n",
    "\n",
    "display(camera_button)\n"
   ]
  },
  {
   "cell_type": "markdown",
   "id": "c4185a0f",
   "metadata": {},
   "source": [
    "Use computer vision to recognize the item in the picture taken by the user. You can use a pre-trained machine learning model to recognize the item in the picture. One option is to use the tensorflow library with a pre-trained image recognition model like MobileNet."
   ]
  },
  {
   "cell_type": "code",
   "execution_count": 9,
   "id": "808b113f",
   "metadata": {},
   "outputs": [
    {
     "name": "stdout",
     "output_type": "stream",
     "text": [
      "Downloading data from https://storage.googleapis.com/tensorflow/keras-applications/mobilenet_v2/mobilenet_v2_weights_tf_dim_ordering_tf_kernels_1.0_224.h5\n",
      "14536120/14536120 [==============================] - 37s 3us/step\n"
     ]
    }
   ],
   "source": [
    "import tensorflow as tf\n",
    "import numpy as np\n",
    "import cv2\n",
    "\n",
    "model = tf.keras.applications.MobileNetV2()\n",
    "\n",
    "def recognize_item(image):\n",
    "    image = cv2.resize(image, (224, 224))\n",
    "    image = np.expand_dims(image, axis=0)\n",
    "    image = tf.keras.applications.mobilenet_v2.preprocess_input(image)\n",
    "    predictions = model.predict(image)\n",
    "    return predictions\n"
   ]
  },
  {
   "cell_type": "markdown",
   "id": "10a3a3ba",
   "metadata": {},
   "source": [
    "When the item is recognized, update the user's score and show a message indicating that the item has been found. You can use the display function from ipywidgets to show a message to the user."
   ]
  },
  {
   "cell_type": "code",
   "execution_count": 10,
   "id": "0d7496a0",
   "metadata": {},
   "outputs": [],
   "source": [
    "def on_camera_button_clicked(b):\n",
    "    clear_output()\n",
    "    display(camera)\n",
    "    image = np.array(camera.value)\n",
    "    predictions = recognize_item(image)\n",
    "    if predictions[0] == 1:\n",
    "        score += 1\n",
    "        display(widgets.Label('Item found! Score: {}'.format(score)))\n",
    "    else:\n",
    "        display(widgets.Label('Item not found. Try again.'))\n"
   ]
  },
  {
   "cell_type": "code",
   "execution_count": 11,
   "id": "2dbf9970",
   "metadata": {},
   "outputs": [
    {
     "data": {
      "application/vnd.jupyter.widget-view+json": {
       "model_id": "afb4fb9f63234befbadf7c342cf2b564",
       "version_major": 2,
       "version_minor": 0
      },
      "text/plain": [
       "VBox(children=(Image(value=b'', format='jpeg', height='400', width='400'), Text(value='', placeholder='Enter l…"
      ]
     },
     "metadata": {},
     "output_type": "display_data"
    }
   ],
   "source": [
    "import ipywidgets as widgets\n",
    "import cv2\n",
    "import numpy as np\n",
    "from geopy.geocoders import Nominatim\n",
    "from geopy.distance import geodesic\n",
    "\n",
    "# Define the widgets we want to use\n",
    "image_widget = widgets.Image(format='jpeg', width=400, height=400)\n",
    "location_widget = widgets.Text(placeholder='Enter location')\n",
    "distance_widget = widgets.FloatSlider(min=0, max=10, step=0.1, value=1, description='Distance (km)')\n",
    "search_button = widgets.Button(description='Search')\n",
    "\n",
    "# Define a function to connect the widgets with the geocaching and computer vision functionality\n",
    "def search_location(b):\n",
    "    # Use geopy to convert the location string to latitude and longitude\n",
    "    geolocator = Nominatim(user_agent='my_app')\n",
    "    location = geolocator.geocode(location_widget.value)\n",
    "    latitude = location.latitude\n",
    "    longitude = location.longitude\n",
    "\n",
    "    # Use geodesic distance to calculate the bounding box for the search area\n",
    "    distance_km = distance_widget.value\n",
    "    bbox = geodesic(kilometers=distance_km).destination((latitude, longitude), 45).longitude, \\\n",
    "           geodesic(kilometers=distance_km).destination((latitude, longitude), 135).latitude, \\\n",
    "           geodesic(kilometers=distance_km).destination((latitude, longitude), 225).longitude, \\\n",
    "           geodesic(kilometers=distance_km).destination((latitude, longitude), 315).latitude\n",
    "\n",
    "    # Use OpenCV to capture an image from the webcam\n",
    "    cap = cv2.VideoCapture(0)\n",
    "    ret, frame = cap.read()\n",
    "\n",
    "    # Use OpenCV to detect features in the image and draw them on the image\n",
    "    sift = cv2.SIFT_create()\n",
    "    kp, des = sift.detectAndCompute(frame, None)\n",
    "    img = cv2.drawKeypoints(frame, kp, None, flags=cv2.DRAW_MATCHES_FLAGS_DRAW_RICH_KEYPOINTS)\n",
    "\n",
    "    # Display the image in the GUI\n",
    "    _, jpeg = cv2.imencode('.jpg', img)\n",
    "    image_widget.value = jpeg.tobytes()\n",
    "\n",
    "    # Release the OpenCV resources\n",
    "    cap.release()\n",
    "    cv2.destroyAllWindows()\n",
    "\n",
    "# Connect the search button to the search_location function\n",
    "search_button.on_click(search_location)\n",
    "\n",
    "# Assemble the GUI using the widgets and the function\n",
    "widgets.VBox([\n",
    "    image_widget,\n",
    "    location_widget,\n",
    "    distance_widget,\n",
    "    search_button\n",
    "])\n"
   ]
  },
  {
   "cell_type": "code",
   "execution_count": 14,
   "id": "744b9c27",
   "metadata": {},
   "outputs": [
    {
     "ename": "ModuleNotFoundError",
     "evalue": "No module named 'geemap.eefolium'",
     "output_type": "error",
     "traceback": [
      "\u001b[1;31m---------------------------------------------------------------------------\u001b[0m",
      "\u001b[1;31mModuleNotFoundError\u001b[0m                       Traceback (most recent call last)",
      "Cell \u001b[1;32mIn[14], line 4\u001b[0m\n\u001b[0;32m      2\u001b[0m \u001b[38;5;28;01mimport\u001b[39;00m \u001b[38;5;21;01mipywidgets\u001b[39;00m \u001b[38;5;28;01mas\u001b[39;00m \u001b[38;5;21;01mwidgets\u001b[39;00m\n\u001b[0;32m      3\u001b[0m \u001b[38;5;28;01mimport\u001b[39;00m \u001b[38;5;21;01mnumpy\u001b[39;00m \u001b[38;5;28;01mas\u001b[39;00m \u001b[38;5;21;01mnp\u001b[39;00m\n\u001b[1;32m----> 4\u001b[0m \u001b[38;5;28;01mimport\u001b[39;00m \u001b[38;5;21;01mgeemap\u001b[39;00m\u001b[38;5;21;01m.\u001b[39;00m\u001b[38;5;21;01meefolium\u001b[39;00m \u001b[38;5;28;01mas\u001b[39;00m \u001b[38;5;21;01mgeemap\u001b[39;00m\n\u001b[0;32m      5\u001b[0m \u001b[38;5;28;01mfrom\u001b[39;00m \u001b[38;5;21;01mIPython\u001b[39;00m\u001b[38;5;21;01m.\u001b[39;00m\u001b[38;5;21;01mdisplay\u001b[39;00m \u001b[38;5;28;01mimport\u001b[39;00m display\n\u001b[0;32m      6\u001b[0m \u001b[38;5;28;01mfrom\u001b[39;00m \u001b[38;5;21;01mgoogle\u001b[39;00m\u001b[38;5;21;01m.\u001b[39;00m\u001b[38;5;21;01mcloud\u001b[39;00m \u001b[38;5;28;01mimport\u001b[39;00m vision\n",
      "\u001b[1;31mModuleNotFoundError\u001b[0m: No module named 'geemap.eefolium'"
     ]
    }
   ],
   "source": [
    "import cv2\n",
    "import ipywidgets as widgets\n",
    "import numpy as np\n",
    "import geemap.eefolium as geemap\n",
    "from IPython.display import display\n",
    "from google.cloud import vision\n",
    "\n",
    "# Create a client object for the Vision API\n",
    "client = vision.ImageAnnotatorClient()\n",
    "\n",
    "# Define a function to detect text in an image\n",
    "def detect_text(img_path):\n",
    "    # Read the image file\n",
    "    with open(img_path, 'rb') as f:\n",
    "        img_data = f.read()\n",
    "    image = vision.Image(content=img_data)\n",
    "\n",
    "    # Detect text in the image\n",
    "    response = client.text_detection(image=image)\n",
    "    texts = response.text_annotations\n",
    "\n",
    "    # Return the detected text\n",
    "    if texts:\n",
    "        return texts[0].description\n",
    "    else:\n",
    "        return ''\n",
    "\n",
    "# Define a function to handle button click events\n",
    "def on_button_click(b):\n",
    "    # Get the path of the selected image file\n",
    "    img_path = file_upload.metadata['path']\n",
    "    \n",
    "    # Load the image using OpenCV\n",
    "    img = cv2.imread(img_path)\n",
    "\n",
    "    # Convert the image to grayscale\n",
    "    gray = cv2.cvtColor(img, cv2.COLOR_BGR2GRAY)\n",
    "\n",
    "    # Apply adaptive thresholding to binarize the image\n",
    "    thresh = cv2.adaptiveThreshold(gray, 255, cv2.ADAPTIVE_THRESH_GAUSSIAN_C, cv2.THRESH_BINARY, 11, 2)\n",
    "\n",
    "    # Save the binarized image\n",
    "    cv2.imwrite('temp.png', thresh)\n",
    "\n",
    "    # Detect text in the binarized image\n",
    "    text = detect_text('temp.png')\n",
    "\n",
    "    # Display the detected text\n",
    "    output.clear_output()\n",
    "    with output:\n",
    "        print(text)\n",
    "\n",
    "# Define a function to handle file upload events\n",
    "def on_file_upload(change):\n",
    "    # Clear the output area\n",
    "    output.clear_output()\n",
    "\n",
    "    # Get the uploaded file\n",
    "    file_contents = file_upload.value\n",
    "    filename = file_upload.filename\n",
    "\n",
    "    # Save the uploaded file\n",
    "    with open(filename, 'wb') as f:\n",
    "        f.write(file_contents)\n",
    "\n",
    "    # Display the selected image\n",
    "    image_widget.value = file_contents\n",
    "\n",
    "# Create the GUI widgets\n",
    "file_upload = widgets.FileUpload()\n",
    "button = widgets.Button(description='Detect Text')\n",
    "output = widgets.Output()\n",
    "image_widget = widgets.Image()\n",
    "map_widget = geemap.Map(center=(0, 0), zoom=2)\n",
    "\n",
    "# Attach event handlers to the widgets\n",
    "file_upload.observe(on_file_upload, names='value')\n",
    "button.on_click(on_button_click)\n",
    "\n",
    "# Display the GUI widgets\n",
    "display(widgets.VBox([widgets.HBox([file_upload, button]), output, widgets.HBox([image_widget, map_widget])]))\n",
    "\n",
    "# Load and display the map\n",
    "map_widget.add_layer(geemap.ee_tile_layer(\"srtm90\"))\n"
   ]
  },
  {
   "cell_type": "code",
   "execution_count": 15,
   "id": "c02d6f1b",
   "metadata": {},
   "outputs": [
    {
     "name": "stdout",
     "output_type": "stream",
     "text": [
      "Requirement already satisfied: geemap in c:\\users\\user\\anaconda3\\envs\\geo_env\\lib\\site-packages (0.19.5)\n",
      "Requirement already satisfied: bqplot in c:\\users\\user\\anaconda3\\envs\\geo_env\\lib\\site-packages (from geemap) (0.12.36)\n",
      "Requirement already satisfied: colour in c:\\users\\user\\anaconda3\\envs\\geo_env\\lib\\site-packages (from geemap) (0.1.5)\n",
      "Requirement already satisfied: earthengine-api>=0.1.304 in c:\\users\\user\\anaconda3\\envs\\geo_env\\lib\\site-packages (from geemap) (0.1.335)\n",
      "Requirement already satisfied: ee-extra>=0.0.10 in c:\\users\\user\\anaconda3\\envs\\geo_env\\lib\\site-packages (from geemap) (0.0.14)\n",
      "Requirement already satisfied: eerepr>=0.0.4 in c:\\users\\user\\anaconda3\\envs\\geo_env\\lib\\site-packages (from geemap) (0.0.4)\n",
      "Requirement already satisfied: ffmpeg-python in c:\\users\\user\\anaconda3\\envs\\geo_env\\lib\\site-packages (from geemap) (0.2.0)\n",
      "Requirement already satisfied: folium>=0.11.0 in c:\\users\\user\\anaconda3\\envs\\geo_env\\lib\\site-packages (from geemap) (0.14.0)\n",
      "Requirement already satisfied: gdown in c:\\users\\user\\anaconda3\\envs\\geo_env\\lib\\site-packages (from geemap) (4.6.0)\n",
      "Requirement already satisfied: geeadd>=0.5.1 in c:\\users\\user\\anaconda3\\envs\\geo_env\\lib\\site-packages (from geemap) (0.5.6)\n",
      "Requirement already satisfied: geocoder in c:\\users\\user\\anaconda3\\envs\\geo_env\\lib\\site-packages (from geemap) (1.38.1)\n",
      "Requirement already satisfied: geojson in c:\\users\\user\\anaconda3\\envs\\geo_env\\lib\\site-packages (from geemap) (2.5.0)\n",
      "Requirement already satisfied: ipyevents in c:\\users\\user\\anaconda3\\envs\\geo_env\\lib\\site-packages (from geemap) (2.0.1)\n",
      "Requirement already satisfied: ipyfilechooser>=0.6.0 in c:\\users\\user\\anaconda3\\envs\\geo_env\\lib\\site-packages (from geemap) (0.6.0)\n",
      "Requirement already satisfied: ipyleaflet>=0.17.0 in c:\\users\\user\\anaconda3\\envs\\geo_env\\lib\\site-packages (from geemap) (0.17.2)\n",
      "Requirement already satisfied: ipytree in c:\\users\\user\\anaconda3\\envs\\geo_env\\lib\\site-packages (from geemap) (0.2.2)\n",
      "Requirement already satisfied: ipywidgets<8.0.0 in c:\\users\\user\\anaconda3\\envs\\geo_env\\lib\\site-packages (from geemap) (7.5.0)\n",
      "Requirement already satisfied: matplotlib in c:\\users\\user\\anaconda3\\envs\\geo_env\\lib\\site-packages (from geemap) (3.6.2)\n",
      "Requirement already satisfied: numpy in c:\\users\\user\\anaconda3\\envs\\geo_env\\lib\\site-packages (from geemap) (1.23.5)\n",
      "Requirement already satisfied: pandas in c:\\users\\user\\anaconda3\\envs\\geo_env\\lib\\site-packages (from geemap) (1.5.2)\n",
      "Requirement already satisfied: pillow in c:\\users\\user\\anaconda3\\envs\\geo_env\\lib\\site-packages (from geemap) (9.3.0)\n",
      "Requirement already satisfied: pycrs in c:\\users\\user\\anaconda3\\envs\\geo_env\\lib\\site-packages (from geemap) (1.0.2)\n",
      "Requirement already satisfied: pyshp>=2.1.3 in c:\\users\\user\\anaconda3\\envs\\geo_env\\lib\\site-packages (from geemap) (2.3.1)\n",
      "Requirement already satisfied: python-box in c:\\users\\user\\anaconda3\\envs\\geo_env\\lib\\site-packages (from geemap) (6.1.0)\n",
      "Requirement already satisfied: sankee>=0.1.0 in c:\\users\\user\\anaconda3\\envs\\geo_env\\lib\\site-packages (from geemap) (0.2.1)\n",
      "Requirement already satisfied: scooby in c:\\users\\user\\anaconda3\\envs\\geo_env\\lib\\site-packages (from geemap) (0.7.0)\n",
      "Requirement already satisfied: whiteboxgui>=0.6.0 in c:\\users\\user\\anaconda3\\envs\\geo_env\\lib\\site-packages (from geemap) (2.2.0)\n",
      "Requirement already satisfied: xyzservices in c:\\users\\user\\anaconda3\\envs\\geo_env\\lib\\site-packages (from geemap) (2022.9.0)\n",
      "Requirement already satisfied: future in c:\\users\\user\\anaconda3\\envs\\geo_env\\lib\\site-packages (from earthengine-api>=0.1.304->geemap) (0.18.2)\n",
      "Requirement already satisfied: google-cloud-storage in c:\\users\\user\\anaconda3\\envs\\geo_env\\lib\\site-packages (from earthengine-api>=0.1.304->geemap) (2.7.0)\n",
      "Requirement already satisfied: google-api-python-client>=1.12.1 in c:\\users\\user\\anaconda3\\envs\\geo_env\\lib\\site-packages (from earthengine-api>=0.1.304->geemap) (2.70.0)\n",
      "Requirement already satisfied: google-auth>=1.4.1 in c:\\users\\user\\anaconda3\\envs\\geo_env\\lib\\site-packages (from earthengine-api>=0.1.304->geemap) (2.15.0)\n",
      "Requirement already satisfied: google-auth-httplib2>=0.0.3 in c:\\users\\user\\anaconda3\\envs\\geo_env\\lib\\site-packages (from earthengine-api>=0.1.304->geemap) (0.1.0)\n",
      "Requirement already satisfied: httplib2<1dev,>=0.9.2 in c:\\users\\user\\anaconda3\\envs\\geo_env\\lib\\site-packages (from earthengine-api>=0.1.304->geemap) (0.21.0)\n",
      "Requirement already satisfied: requests in c:\\users\\user\\anaconda3\\envs\\geo_env\\lib\\site-packages (from earthengine-api>=0.1.304->geemap) (2.28.1)\n",
      "Requirement already satisfied: six in c:\\users\\user\\anaconda3\\envs\\geo_env\\lib\\site-packages (from earthengine-api>=0.1.304->geemap) (1.16.0)\n",
      "Requirement already satisfied: branca>=0.6.0 in c:\\users\\user\\anaconda3\\envs\\geo_env\\lib\\site-packages (from folium>=0.11.0->geemap) (0.6.0)\n",
      "Requirement already satisfied: jinja2>=2.9 in c:\\users\\user\\anaconda3\\envs\\geo_env\\lib\\site-packages (from folium>=0.11.0->geemap) (3.1.2)\n",
      "Requirement already satisfied: logzero>=1.5.0 in c:\\users\\user\\anaconda3\\envs\\geo_env\\lib\\site-packages (from geeadd>=0.5.1->geemap) (1.7.0)\n",
      "Requirement already satisfied: beautifulsoup4>=4.9.0 in c:\\users\\user\\anaconda3\\envs\\geo_env\\lib\\site-packages (from geeadd>=0.5.1->geemap) (4.11.1)\n",
      "Collecting ipywidgets<8.0.0\n",
      "  Downloading ipywidgets-7.7.3-py2.py3-none-any.whl (123 kB)\n",
      "     ------------------------------------ 123.4/123.4 kB 278.7 kB/s eta 0:00:00\n",
      "Requirement already satisfied: traittypes<3,>=0.2.1 in c:\\users\\user\\anaconda3\\envs\\geo_env\\lib\\site-packages (from ipyleaflet>=0.17.0->geemap) (0.2.1)\n",
      "Requirement already satisfied: ipykernel>=4.5.1 in c:\\users\\user\\anaconda3\\envs\\geo_env\\lib\\site-packages (from ipywidgets<8.0.0->geemap) (6.19.4)\n",
      "Requirement already satisfied: ipython-genutils~=0.2.0 in c:\\users\\user\\anaconda3\\envs\\geo_env\\lib\\site-packages (from ipywidgets<8.0.0->geemap) (0.2.0)\n",
      "Requirement already satisfied: traitlets>=4.3.1 in c:\\users\\user\\anaconda3\\envs\\geo_env\\lib\\site-packages (from ipywidgets<8.0.0->geemap) (5.9.0)\n",
      "Collecting widgetsnbextension~=3.6.0\n",
      "  Downloading widgetsnbextension-3.6.2-py2.py3-none-any.whl (1.6 MB)\n",
      "     ---------------------------------------- 1.6/1.6 MB 570.2 kB/s eta 0:00:00\n",
      "Requirement already satisfied: ipython>=4.0.0 in c:\\users\\user\\anaconda3\\envs\\geo_env\\lib\\site-packages (from ipywidgets<8.0.0->geemap) (8.7.0)\n",
      "Requirement already satisfied: jupyterlab-widgets<3,>=1.0.0 in c:\\users\\user\\anaconda3\\envs\\geo_env\\lib\\site-packages (from ipywidgets<8.0.0->geemap) (1.1.1)\n",
      "Requirement already satisfied: plotly>=5.2.2 in c:\\users\\user\\anaconda3\\envs\\geo_env\\lib\\site-packages (from sankee>=0.1.0->geemap) (5.11.0)\n",
      "Requirement already satisfied: whitebox in c:\\users\\user\\anaconda3\\envs\\geo_env\\lib\\site-packages (from whiteboxgui>=0.6.0->geemap) (2.2.0)\n",
      "Requirement already satisfied: python-dateutil>=2.8.1 in c:\\users\\user\\anaconda3\\envs\\geo_env\\lib\\site-packages (from pandas->geemap) (2.8.2)\n",
      "Requirement already satisfied: pytz>=2020.1 in c:\\users\\user\\anaconda3\\envs\\geo_env\\lib\\site-packages (from pandas->geemap) (2022.7)\n",
      "Requirement already satisfied: filelock in c:\\users\\user\\anaconda3\\envs\\geo_env\\lib\\site-packages (from gdown->geemap) (3.8.2)\n",
      "Requirement already satisfied: tqdm in c:\\users\\user\\anaconda3\\envs\\geo_env\\lib\\site-packages (from gdown->geemap) (4.64.1)\n",
      "Requirement already satisfied: click in c:\\users\\user\\anaconda3\\envs\\geo_env\\lib\\site-packages (from geocoder->geemap) (8.1.3)\n",
      "Requirement already satisfied: ratelim in c:\\users\\user\\anaconda3\\envs\\geo_env\\lib\\site-packages (from geocoder->geemap) (0.1.6)\n",
      "Requirement already satisfied: contourpy>=1.0.1 in c:\\users\\user\\anaconda3\\envs\\geo_env\\lib\\site-packages (from matplotlib->geemap) (1.0.6)\n",
      "Requirement already satisfied: cycler>=0.10 in c:\\users\\user\\anaconda3\\envs\\geo_env\\lib\\site-packages (from matplotlib->geemap) (0.11.0)\n",
      "Requirement already satisfied: fonttools>=4.22.0 in c:\\users\\user\\anaconda3\\envs\\geo_env\\lib\\site-packages (from matplotlib->geemap) (4.38.0)\n",
      "Requirement already satisfied: kiwisolver>=1.0.1 in c:\\users\\user\\anaconda3\\envs\\geo_env\\lib\\site-packages (from matplotlib->geemap) (1.4.4)\n",
      "Requirement already satisfied: packaging>=20.0 in c:\\users\\user\\anaconda3\\envs\\geo_env\\lib\\site-packages (from matplotlib->geemap) (22.0)\n",
      "Requirement already satisfied: pyparsing>=2.2.1 in c:\\users\\user\\anaconda3\\envs\\geo_env\\lib\\site-packages (from matplotlib->geemap) (3.0.9)\n",
      "Requirement already satisfied: soupsieve>1.2 in c:\\users\\user\\anaconda3\\envs\\geo_env\\lib\\site-packages (from beautifulsoup4>=4.9.0->geeadd>=0.5.1->geemap) (2.3.2.post1)\n",
      "Requirement already satisfied: google-api-core!=2.0.*,!=2.1.*,!=2.2.*,!=2.3.0,<3.0.0dev,>=1.31.5 in c:\\users\\user\\anaconda3\\envs\\geo_env\\lib\\site-packages (from google-api-python-client>=1.12.1->earthengine-api>=0.1.304->geemap) (2.11.0)\n",
      "Requirement already satisfied: uritemplate<5,>=3.0.1 in c:\\users\\user\\anaconda3\\envs\\geo_env\\lib\\site-packages (from google-api-python-client>=1.12.1->earthengine-api>=0.1.304->geemap) (4.1.1)\n",
      "Requirement already satisfied: cachetools<6.0,>=2.0.0 in c:\\users\\user\\anaconda3\\envs\\geo_env\\lib\\site-packages (from google-auth>=1.4.1->earthengine-api>=0.1.304->geemap) (5.2.0)\n",
      "Requirement already satisfied: pyasn1-modules>=0.2.1 in c:\\users\\user\\anaconda3\\envs\\geo_env\\lib\\site-packages (from google-auth>=1.4.1->earthengine-api>=0.1.304->geemap) (0.2.8)\n",
      "Requirement already satisfied: rsa<5,>=3.1.4 in c:\\users\\user\\anaconda3\\envs\\geo_env\\lib\\site-packages (from google-auth>=1.4.1->earthengine-api>=0.1.304->geemap) (4.9)\n",
      "Requirement already satisfied: comm>=0.1.1 in c:\\users\\user\\anaconda3\\envs\\geo_env\\lib\\site-packages (from ipykernel>=4.5.1->ipywidgets<8.0.0->geemap) (0.1.2)\n",
      "Requirement already satisfied: debugpy>=1.0 in c:\\users\\user\\anaconda3\\envs\\geo_env\\lib\\site-packages (from ipykernel>=4.5.1->ipywidgets<8.0.0->geemap) (1.6.4)\n",
      "Requirement already satisfied: jupyter-client>=6.1.12 in c:\\users\\user\\anaconda3\\envs\\geo_env\\lib\\site-packages (from ipykernel>=4.5.1->ipywidgets<8.0.0->geemap) (7.4.1)\n",
      "Requirement already satisfied: matplotlib-inline>=0.1 in c:\\users\\user\\anaconda3\\envs\\geo_env\\lib\\site-packages (from ipykernel>=4.5.1->ipywidgets<8.0.0->geemap) (0.1.6)\n",
      "Requirement already satisfied: nest-asyncio in c:\\users\\user\\anaconda3\\envs\\geo_env\\lib\\site-packages (from ipykernel>=4.5.1->ipywidgets<8.0.0->geemap) (1.5.6)\n",
      "Requirement already satisfied: psutil in c:\\users\\user\\anaconda3\\envs\\geo_env\\lib\\site-packages (from ipykernel>=4.5.1->ipywidgets<8.0.0->geemap) (5.9.4)\n",
      "Requirement already satisfied: pyzmq>=17 in c:\\users\\user\\anaconda3\\envs\\geo_env\\lib\\site-packages (from ipykernel>=4.5.1->ipywidgets<8.0.0->geemap) (24.0.1)\n",
      "Requirement already satisfied: tornado>=6.1 in c:\\users\\user\\anaconda3\\envs\\geo_env\\lib\\site-packages (from ipykernel>=4.5.1->ipywidgets<8.0.0->geemap) (6.2)\n",
      "Requirement already satisfied: backcall in c:\\users\\user\\anaconda3\\envs\\geo_env\\lib\\site-packages (from ipython>=4.0.0->ipywidgets<8.0.0->geemap) (0.2.0)\n",
      "Requirement already satisfied: decorator in c:\\users\\user\\anaconda3\\envs\\geo_env\\lib\\site-packages (from ipython>=4.0.0->ipywidgets<8.0.0->geemap) (5.1.1)\n",
      "Requirement already satisfied: jedi>=0.16 in c:\\users\\user\\anaconda3\\envs\\geo_env\\lib\\site-packages (from ipython>=4.0.0->ipywidgets<8.0.0->geemap) (0.18.2)\n",
      "Requirement already satisfied: pickleshare in c:\\users\\user\\anaconda3\\envs\\geo_env\\lib\\site-packages (from ipython>=4.0.0->ipywidgets<8.0.0->geemap) (0.7.5)\n",
      "Requirement already satisfied: prompt-toolkit<3.1.0,>=3.0.11 in c:\\users\\user\\anaconda3\\envs\\geo_env\\lib\\site-packages (from ipython>=4.0.0->ipywidgets<8.0.0->geemap) (3.0.36)\n",
      "Requirement already satisfied: pygments>=2.4.0 in c:\\users\\user\\anaconda3\\envs\\geo_env\\lib\\site-packages (from ipython>=4.0.0->ipywidgets<8.0.0->geemap) (2.13.0)\n",
      "Requirement already satisfied: stack-data in c:\\users\\user\\anaconda3\\envs\\geo_env\\lib\\site-packages (from ipython>=4.0.0->ipywidgets<8.0.0->geemap) (0.6.2)\n",
      "Requirement already satisfied: colorama in c:\\users\\user\\anaconda3\\envs\\geo_env\\lib\\site-packages (from ipython>=4.0.0->ipywidgets<8.0.0->geemap) (0.4.6)\n",
      "Requirement already satisfied: MarkupSafe>=2.0 in c:\\users\\user\\anaconda3\\envs\\geo_env\\lib\\site-packages (from jinja2>=2.9->folium>=0.11.0->geemap) (2.1.1)\n",
      "Requirement already satisfied: tenacity>=6.2.0 in c:\\users\\user\\anaconda3\\envs\\geo_env\\lib\\site-packages (from plotly>=5.2.2->sankee>=0.1.0->geemap) (8.1.0)\n",
      "Requirement already satisfied: charset-normalizer<3,>=2 in c:\\users\\user\\anaconda3\\envs\\geo_env\\lib\\site-packages (from requests->earthengine-api>=0.1.304->geemap) (2.1.1)\n",
      "Requirement already satisfied: idna<4,>=2.5 in c:\\users\\user\\anaconda3\\envs\\geo_env\\lib\\site-packages (from requests->earthengine-api>=0.1.304->geemap) (3.4)\n",
      "Requirement already satisfied: urllib3<1.27,>=1.21.1 in c:\\users\\user\\anaconda3\\envs\\geo_env\\lib\\site-packages (from requests->earthengine-api>=0.1.304->geemap) (1.26.13)\n",
      "Requirement already satisfied: certifi>=2017.4.17 in c:\\users\\user\\anaconda3\\envs\\geo_env\\lib\\site-packages (from requests->earthengine-api>=0.1.304->geemap) (2022.12.7)\n",
      "Requirement already satisfied: notebook>=4.4.1 in c:\\users\\user\\anaconda3\\envs\\geo_env\\lib\\site-packages (from widgetsnbextension~=3.6.0->ipywidgets<8.0.0->geemap) (6.5.2)\n",
      "Requirement already satisfied: google-cloud-core<3.0dev,>=2.3.0 in c:\\users\\user\\anaconda3\\envs\\geo_env\\lib\\site-packages (from google-cloud-storage->earthengine-api>=0.1.304->geemap) (2.3.2)\n",
      "Requirement already satisfied: google-resumable-media>=2.3.2 in c:\\users\\user\\anaconda3\\envs\\geo_env\\lib\\site-packages (from google-cloud-storage->earthengine-api>=0.1.304->geemap) (2.4.0)\n",
      "Requirement already satisfied: PySocks!=1.5.7,>=1.5.6 in c:\\users\\user\\anaconda3\\envs\\geo_env\\lib\\site-packages (from requests->earthengine-api>=0.1.304->geemap) (1.7.1)\n",
      "Requirement already satisfied: googleapis-common-protos<2.0dev,>=1.56.2 in c:\\users\\user\\anaconda3\\envs\\geo_env\\lib\\site-packages (from google-api-core!=2.0.*,!=2.1.*,!=2.2.*,!=2.3.0,<3.0.0dev,>=1.31.5->google-api-python-client>=1.12.1->earthengine-api>=0.1.304->geemap) (1.57.0)\n",
      "Requirement already satisfied: protobuf!=3.20.0,!=3.20.1,!=4.21.0,!=4.21.1,!=4.21.2,!=4.21.3,!=4.21.4,!=4.21.5,<5.0.0dev,>=3.19.5 in c:\\users\\user\\anaconda3\\envs\\geo_env\\lib\\site-packages (from google-api-core!=2.0.*,!=2.1.*,!=2.2.*,!=2.3.0,<3.0.0dev,>=1.31.5->google-api-python-client>=1.12.1->earthengine-api>=0.1.304->geemap) (3.20.3)\n",
      "Requirement already satisfied: google-crc32c<2.0dev,>=1.0 in c:\\users\\user\\anaconda3\\envs\\geo_env\\lib\\site-packages (from google-resumable-media>=2.3.2->google-cloud-storage->earthengine-api>=0.1.304->geemap) (1.5.0)\n",
      "Requirement already satisfied: parso<0.9.0,>=0.8.0 in c:\\users\\user\\anaconda3\\envs\\geo_env\\lib\\site-packages (from jedi>=0.16->ipython>=4.0.0->ipywidgets<8.0.0->geemap) (0.8.3)\n",
      "Requirement already satisfied: entrypoints in c:\\users\\user\\anaconda3\\envs\\geo_env\\lib\\site-packages (from jupyter-client>=6.1.12->ipykernel>=4.5.1->ipywidgets<8.0.0->geemap) (0.4)\n",
      "Requirement already satisfied: jupyter-core>=4.9.2 in c:\\users\\user\\anaconda3\\envs\\geo_env\\lib\\site-packages (from jupyter-client>=6.1.12->ipykernel>=4.5.1->ipywidgets<8.0.0->geemap) (5.1.0)\n",
      "Requirement already satisfied: argon2-cffi in c:\\users\\user\\anaconda3\\envs\\geo_env\\lib\\site-packages (from notebook>=4.4.1->widgetsnbextension~=3.6.0->ipywidgets<8.0.0->geemap) (21.3.0)\n",
      "Requirement already satisfied: nbformat in c:\\users\\user\\anaconda3\\envs\\geo_env\\lib\\site-packages (from notebook>=4.4.1->widgetsnbextension~=3.6.0->ipywidgets<8.0.0->geemap) (5.7.1)\n",
      "Requirement already satisfied: nbconvert>=5 in c:\\users\\user\\anaconda3\\envs\\geo_env\\lib\\site-packages (from notebook>=4.4.1->widgetsnbextension~=3.6.0->ipywidgets<8.0.0->geemap) (7.2.7)\n",
      "Requirement already satisfied: Send2Trash>=1.8.0 in c:\\users\\user\\anaconda3\\envs\\geo_env\\lib\\site-packages (from notebook>=4.4.1->widgetsnbextension~=3.6.0->ipywidgets<8.0.0->geemap) (1.8.0)\n",
      "Requirement already satisfied: terminado>=0.8.3 in c:\\users\\user\\anaconda3\\envs\\geo_env\\lib\\site-packages (from notebook>=4.4.1->widgetsnbextension~=3.6.0->ipywidgets<8.0.0->geemap) (0.17.0)\n",
      "Requirement already satisfied: prometheus-client in c:\\users\\user\\anaconda3\\envs\\geo_env\\lib\\site-packages (from notebook>=4.4.1->widgetsnbextension~=3.6.0->ipywidgets<8.0.0->geemap) (0.15.0)\n",
      "Requirement already satisfied: nbclassic>=0.4.7 in c:\\users\\user\\anaconda3\\envs\\geo_env\\lib\\site-packages (from notebook>=4.4.1->widgetsnbextension~=3.6.0->ipywidgets<8.0.0->geemap) (0.4.8)\n",
      "Requirement already satisfied: wcwidth in c:\\users\\user\\anaconda3\\envs\\geo_env\\lib\\site-packages (from prompt-toolkit<3.1.0,>=3.0.11->ipython>=4.0.0->ipywidgets<8.0.0->geemap) (0.2.5)\n",
      "Requirement already satisfied: pyasn1<0.5.0,>=0.4.6 in c:\\users\\user\\anaconda3\\envs\\geo_env\\lib\\site-packages (from pyasn1-modules>=0.2.1->google-auth>=1.4.1->earthengine-api>=0.1.304->geemap) (0.4.8)\n",
      "Requirement already satisfied: executing>=1.2.0 in c:\\users\\user\\anaconda3\\envs\\geo_env\\lib\\site-packages (from stack-data->ipython>=4.0.0->ipywidgets<8.0.0->geemap) (1.2.0)\n",
      "Requirement already satisfied: asttokens>=2.1.0 in c:\\users\\user\\anaconda3\\envs\\geo_env\\lib\\site-packages (from stack-data->ipython>=4.0.0->ipywidgets<8.0.0->geemap) (2.2.1)\n",
      "Requirement already satisfied: pure-eval in c:\\users\\user\\anaconda3\\envs\\geo_env\\lib\\site-packages (from stack-data->ipython>=4.0.0->ipywidgets<8.0.0->geemap) (0.2.2)\n",
      "Requirement already satisfied: platformdirs>=2.5 in c:\\users\\user\\anaconda3\\envs\\geo_env\\lib\\site-packages (from jupyter-core>=4.9.2->jupyter-client>=6.1.12->ipykernel>=4.5.1->ipywidgets<8.0.0->geemap) (2.6.0)\n",
      "Requirement already satisfied: pywin32>=1.0 in c:\\users\\user\\anaconda3\\envs\\geo_env\\lib\\site-packages (from jupyter-core>=4.9.2->jupyter-client>=6.1.12->ipykernel>=4.5.1->ipywidgets<8.0.0->geemap) (304)\n",
      "Requirement already satisfied: jupyter-server>=1.8 in c:\\users\\user\\anaconda3\\envs\\geo_env\\lib\\site-packages (from nbclassic>=0.4.7->notebook>=4.4.1->widgetsnbextension~=3.6.0->ipywidgets<8.0.0->geemap) (1.23.4)\n",
      "Requirement already satisfied: notebook-shim>=0.1.0 in c:\\users\\user\\anaconda3\\envs\\geo_env\\lib\\site-packages (from nbclassic>=0.4.7->notebook>=4.4.1->widgetsnbextension~=3.6.0->ipywidgets<8.0.0->geemap) (0.2.2)\n",
      "Requirement already satisfied: bleach in c:\\users\\user\\anaconda3\\envs\\geo_env\\lib\\site-packages (from nbconvert>=5->notebook>=4.4.1->widgetsnbextension~=3.6.0->ipywidgets<8.0.0->geemap) (5.0.1)\n",
      "Requirement already satisfied: defusedxml in c:\\users\\user\\anaconda3\\envs\\geo_env\\lib\\site-packages (from nbconvert>=5->notebook>=4.4.1->widgetsnbextension~=3.6.0->ipywidgets<8.0.0->geemap) (0.7.1)\n",
      "Requirement already satisfied: jupyterlab-pygments in c:\\users\\user\\anaconda3\\envs\\geo_env\\lib\\site-packages (from nbconvert>=5->notebook>=4.4.1->widgetsnbextension~=3.6.0->ipywidgets<8.0.0->geemap) (0.2.2)\n",
      "Requirement already satisfied: mistune<3,>=2.0.3 in c:\\users\\user\\anaconda3\\envs\\geo_env\\lib\\site-packages (from nbconvert>=5->notebook>=4.4.1->widgetsnbextension~=3.6.0->ipywidgets<8.0.0->geemap) (2.0.4)\n",
      "Requirement already satisfied: nbclient>=0.5.0 in c:\\users\\user\\anaconda3\\envs\\geo_env\\lib\\site-packages (from nbconvert>=5->notebook>=4.4.1->widgetsnbextension~=3.6.0->ipywidgets<8.0.0->geemap) (0.7.2)\n",
      "Requirement already satisfied: pandocfilters>=1.4.1 in c:\\users\\user\\anaconda3\\envs\\geo_env\\lib\\site-packages (from nbconvert>=5->notebook>=4.4.1->widgetsnbextension~=3.6.0->ipywidgets<8.0.0->geemap) (1.5.0)\n",
      "Requirement already satisfied: tinycss2 in c:\\users\\user\\anaconda3\\envs\\geo_env\\lib\\site-packages (from nbconvert>=5->notebook>=4.4.1->widgetsnbextension~=3.6.0->ipywidgets<8.0.0->geemap) (1.2.1)\n",
      "Requirement already satisfied: fastjsonschema in c:\\users\\user\\anaconda3\\envs\\geo_env\\lib\\site-packages (from nbformat->notebook>=4.4.1->widgetsnbextension~=3.6.0->ipywidgets<8.0.0->geemap) (2.16.2)\n",
      "Requirement already satisfied: jsonschema>=2.6 in c:\\users\\user\\anaconda3\\envs\\geo_env\\lib\\site-packages (from nbformat->notebook>=4.4.1->widgetsnbextension~=3.6.0->ipywidgets<8.0.0->geemap) (4.17.3)\n",
      "Requirement already satisfied: pywinpty>=1.1.0 in c:\\users\\user\\anaconda3\\envs\\geo_env\\lib\\site-packages (from terminado>=0.8.3->notebook>=4.4.1->widgetsnbextension~=3.6.0->ipywidgets<8.0.0->geemap) (2.0.9)\n",
      "Requirement already satisfied: argon2-cffi-bindings in c:\\users\\user\\anaconda3\\envs\\geo_env\\lib\\site-packages (from argon2-cffi->notebook>=4.4.1->widgetsnbextension~=3.6.0->ipywidgets<8.0.0->geemap) (21.2.0)\n",
      "Requirement already satisfied: attrs>=17.4.0 in c:\\users\\user\\anaconda3\\envs\\geo_env\\lib\\site-packages (from jsonschema>=2.6->nbformat->notebook>=4.4.1->widgetsnbextension~=3.6.0->ipywidgets<8.0.0->geemap) (22.2.0)\n",
      "Requirement already satisfied: pyrsistent!=0.17.0,!=0.17.1,!=0.17.2,>=0.14.0 in c:\\users\\user\\anaconda3\\envs\\geo_env\\lib\\site-packages (from jsonschema>=2.6->nbformat->notebook>=4.4.1->widgetsnbextension~=3.6.0->ipywidgets<8.0.0->geemap) (0.19.2)\n",
      "Requirement already satisfied: anyio<4,>=3.1.0 in c:\\users\\user\\anaconda3\\envs\\geo_env\\lib\\site-packages (from jupyter-server>=1.8->nbclassic>=0.4.7->notebook>=4.4.1->widgetsnbextension~=3.6.0->ipywidgets<8.0.0->geemap) (3.6.2)\n",
      "Requirement already satisfied: websocket-client in c:\\users\\user\\anaconda3\\envs\\geo_env\\lib\\site-packages (from jupyter-server>=1.8->nbclassic>=0.4.7->notebook>=4.4.1->widgetsnbextension~=3.6.0->ipywidgets<8.0.0->geemap) (1.4.2)\n",
      "Requirement already satisfied: cffi>=1.0.1 in c:\\users\\user\\anaconda3\\envs\\geo_env\\lib\\site-packages (from argon2-cffi-bindings->argon2-cffi->notebook>=4.4.1->widgetsnbextension~=3.6.0->ipywidgets<8.0.0->geemap) (1.15.1)\n",
      "Requirement already satisfied: webencodings in c:\\users\\user\\anaconda3\\envs\\geo_env\\lib\\site-packages (from bleach->nbconvert>=5->notebook>=4.4.1->widgetsnbextension~=3.6.0->ipywidgets<8.0.0->geemap) (0.5.1)\n",
      "Requirement already satisfied: sniffio>=1.1 in c:\\users\\user\\anaconda3\\envs\\geo_env\\lib\\site-packages (from anyio<4,>=3.1.0->jupyter-server>=1.8->nbclassic>=0.4.7->notebook>=4.4.1->widgetsnbextension~=3.6.0->ipywidgets<8.0.0->geemap) (1.3.0)\n",
      "Requirement already satisfied: pycparser in c:\\users\\user\\anaconda3\\envs\\geo_env\\lib\\site-packages (from cffi>=1.0.1->argon2-cffi-bindings->argon2-cffi->notebook>=4.4.1->widgetsnbextension~=3.6.0->ipywidgets<8.0.0->geemap) (2.21)\n",
      "Installing collected packages: widgetsnbextension, ipywidgets\n",
      "  Attempting uninstall: widgetsnbextension\n",
      "    Found existing installation: widgetsnbextension 3.5.2\n",
      "    Uninstalling widgetsnbextension-3.5.2:\n",
      "      Successfully uninstalled widgetsnbextension-3.5.2\n",
      "  Attempting uninstall: ipywidgets\n",
      "    Found existing installation: ipywidgets 7.5.0\n",
      "    Uninstalling ipywidgets-7.5.0:\n",
      "      Successfully uninstalled ipywidgets-7.5.0\n",
      "Successfully installed ipywidgets-7.7.3 widgetsnbextension-3.6.2\n"
     ]
    }
   ],
   "source": [
    "!pip install geemap"
   ]
  }
 ],
 "metadata": {
  "kernelspec": {
   "display_name": "Python 3 (ipykernel)",
   "language": "python",
   "name": "python3"
  },
  "language_info": {
   "codemirror_mode": {
    "name": "ipython",
    "version": 3
   },
   "file_extension": ".py",
   "mimetype": "text/x-python",
   "name": "python",
   "nbconvert_exporter": "python",
   "pygments_lexer": "ipython3",
   "version": "3.11.0"
  }
 },
 "nbformat": 4,
 "nbformat_minor": 5
}
